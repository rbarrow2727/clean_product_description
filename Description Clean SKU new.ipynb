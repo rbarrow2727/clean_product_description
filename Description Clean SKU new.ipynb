{
 "cells": [
  {
   "cell_type": "code",
   "execution_count": 121,
   "metadata": {},
   "outputs": [],
   "source": [
    "#Clean product descriptions to eliminate unsearchable numeric noise like dimensions EX: 48 rolls, 10x48,\n",
    "\n",
    "import re\n",
    "import inflect ##not standard, pip required\n",
    "p = inflect.engine()\n",
    "\n",
    "from nltk.tokenize import RegexpTokenizer\n",
    "tokenizer = RegexpTokenizer(r'\\w+')\n"
   ]
  },
  {
   "cell_type": "code",
   "execution_count": 122,
   "metadata": {},
   "outputs": [],
   "source": [
    "#individual lists of items to remove to keep it clean\n",
    "uom_cd = ['BA','BC','BD','BG','BK','BL','BO','BT','BX','CA','CD','CG','CL','CM','CN','CO','CS','CT','CX','DI','DR','DS','DZ','EA','FT','GA','GL','GR','GS','HI','HU','IN','JR','KG','KT','LB','LF','LT','MR','OZ','PA','PC','PD','PF','PH','PK','PL','PR','PT','QT','RL','RM','RO','SF','SO','SQ','ST','SY','TB','TP','TW','UN','Y4','YD','ML','GAL','CU','MM']\n",
    "uom_nm = ['EACH','PACK','CASE','OUNCE','INCH','DOZEN','CENTIMETER','QUART','GALLON']\n",
    "uom_nm_pl = []\n",
    "colors = ['GREEN','BLUE','BLACK','WHITE','YELLOW','RED','ORANGE','SILVER','GRAY','GREY','BROWN','CLEAR','GOLD']\n",
    "stop_words = ['OF','PER','QTY','QUANTITY','X','L','W','H','LENGTH','WIDTH','HEIGHT','DIAMETER','OR']\n"
   ]
  },
  {
   "cell_type": "code",
   "execution_count": 123,
   "metadata": {},
   "outputs": [],
   "source": [
    "#create list of plural UOM Names\n",
    "for uom in uom_nm:\n",
    "    uom_nm_pl.append(p.plural(uom))\n",
    "\n",
    "#combined list to remove\n",
    "remove_terms = colors + uom_nm + uom_cd + uom_nm_pl + stop_words"
   ]
  },
  {
   "cell_type": "code",
   "execution_count": 124,
   "metadata": {},
   "outputs": [],
   "source": [
    "def basic_clean(mystr):\n",
    "\n",
    "#section 1: fix items like spacing first.  this is to try and assure we dont have problems breaking up the description by spaces\n",
    "    #add a space after a comma if none exists\n",
    "    clean = re.sub(r'(?<=[,])(?=[^\\s])', r' ', mystr)\n",
    "\n",
    "    #Remove double spaces, tabs and other\n",
    "    clean =' '.join(clean.split())\n",
    "\n",
    "    #Remove possesive appostrophe (?i) makes it case insensitve\n",
    "    clean = re.sub(r'(?i)(?<=[A-Z])[\\'](?=[S])', r'', clean)\n",
    "\n",
    "    #Convert Ampersand to 'and'\n",
    "    clean = re.sub(r'[\\&]','and',clean)\n",
    "\n",
    "#section 2: Remove specific terms\n",
    "    #remove terms that include digits\n",
    "    clean = ' '.join(s for s in clean.split() if not any(c.isdigit() for c in s))\n",
    "\n",
    "    #remove punctuation using tokenizer\n",
    "    clean=' '.join(tokenizer.tokenize(clean))\n",
    "\n",
    "    #remove terms\n",
    "    clean_list = []\n",
    "    \n",
    "    for term in clean.split():\n",
    "        if str(term.upper()) not in remove_terms:\n",
    "           clean_list.append(term)\n",
    "   \n",
    "    clean=' '.join(clean_list)\n",
    "\n",
    "    #remove duplicated terms\n",
    "    clean = ' '.join(list(dict.fromkeys(clean.split())))\n",
    "    \n",
    "    return clean"
   ]
  },
  {
   "cell_type": "code",
   "execution_count": 125,
   "metadata": {},
   "outputs": [],
   "source": [
    "mystr = r'''10x48 gallon drum with 12inch plastic covers'''"
   ]
  },
  {
   "cell_type": "code",
   "execution_count": 126,
   "metadata": {},
   "outputs": [
    {
     "name": "stdout",
     "output_type": "stream",
     "text": [
      "drum with plastic covers count\n"
     ]
    }
   ],
   "source": [
    "print(basic_clean(mystr))"
   ]
  },
  {
   "cell_type": "code",
   "execution_count": null,
   "metadata": {},
   "outputs": [],
   "source": []
  },
  {
   "cell_type": "code",
   "execution_count": null,
   "metadata": {},
   "outputs": [],
   "source": []
  },
  {
   "cell_type": "code",
   "execution_count": 107,
   "metadata": {},
   "outputs": [],
   "source": [
    "##to do list\n",
    "#1. need to figure out a way to identify actual words when you're \n",
    "#associated with a number and derive that to stay examples 2ply, 2-ply/1-gang\n",
    "#keep certain words that are useful for product desc but followed behind number\n",
    "\n",
    "#define words to keep \n",
    "keep_words = ['PLY', 'GANG']"
   ]
  },
  {
   "cell_type": "code",
   "execution_count": 111,
   "metadata": {},
   "outputs": [
    {
     "name": "stdout",
     "output_type": "stream",
     "text": [
      "E\n"
     ]
    }
   ],
   "source": [
    "#the match function\n",
    "result = re.search(r'[a-zA-z]', mystr)\n",
    "print(result.group(0))"
   ]
  },
  {
   "cell_type": "code",
   "execution_count": 109,
   "metadata": {},
   "outputs": [
    {
     "data": {
      "text/plain": [
       "NoneType"
      ]
     },
     "execution_count": 109,
     "metadata": {},
     "output_type": "execute_result"
    }
   ],
   "source": [
    "type(result)"
   ]
  },
  {
   "cell_type": "code",
   "execution_count": 110,
   "metadata": {},
   "outputs": [
    {
     "ename": "AttributeError",
     "evalue": "'NoneType' object has no attribute 'group'",
     "output_type": "error",
     "traceback": [
      "\u001b[1;31m---------------------------------------------------------------------------\u001b[0m",
      "\u001b[1;31mAttributeError\u001b[0m                            Traceback (most recent call last)",
      "\u001b[1;32m<ipython-input-110-87eab7836f61>\u001b[0m in \u001b[0;36m<module>\u001b[1;34m\u001b[0m\n\u001b[1;32m----> 1\u001b[1;33m \u001b[0mresult\u001b[0m\u001b[1;33m.\u001b[0m\u001b[0mgroup\u001b[0m\u001b[1;33m(\u001b[0m\u001b[1;36m0\u001b[0m\u001b[1;33m)\u001b[0m\u001b[1;33m\u001b[0m\u001b[0m\n\u001b[0m",
      "\u001b[1;31mAttributeError\u001b[0m: 'NoneType' object has no attribute 'group'"
     ]
    }
   ],
   "source": [
    "result.group(0)"
   ]
  },
  {
   "cell_type": "code",
   "execution_count": 33,
   "metadata": {},
   "outputs": [],
   "source": [
    "def keep_word(mystr):\n",
    "    \n",
    "    for keep_term in clean.split():\n",
    "        if str(term.upper()) in keep_words:\n",
    "            clean_list.join(term)\n",
    "       \n",
    "    clean=' '.join(clean_list)\n",
    "\n",
    "    #remove duplicated terms\n",
    "    clean = ' '.join(list(dict.fromkeys(clean.split())))\n",
    "    \n",
    "    return clean\n",
    "\n",
    "        \n",
    "        \n"
   ]
  },
  {
   "cell_type": "code",
   "execution_count": 34,
   "metadata": {},
   "outputs": [
    {
     "ename": "UnboundLocalError",
     "evalue": "local variable 'clean' referenced before assignment",
     "output_type": "error",
     "traceback": [
      "\u001b[1;31m---------------------------------------------------------------------------\u001b[0m",
      "\u001b[1;31mUnboundLocalError\u001b[0m                         Traceback (most recent call last)",
      "\u001b[1;32m<ipython-input-34-925efb4d5e29>\u001b[0m in \u001b[0;36m<module>\u001b[1;34m\u001b[0m\n\u001b[1;32m----> 1\u001b[1;33m \u001b[0mprint\u001b[0m\u001b[1;33m(\u001b[0m\u001b[0mkeep_word\u001b[0m\u001b[1;33m(\u001b[0m\u001b[0mmystr\u001b[0m\u001b[1;33m)\u001b[0m\u001b[1;33m)\u001b[0m\u001b[1;33m\u001b[0m\u001b[0m\n\u001b[0m",
      "\u001b[1;32m<ipython-input-33-280db0fcc02f>\u001b[0m in \u001b[0;36mkeep_word\u001b[1;34m(mystr)\u001b[0m\n\u001b[0;32m      1\u001b[0m \u001b[1;32mdef\u001b[0m \u001b[0mkeep_word\u001b[0m\u001b[1;33m(\u001b[0m\u001b[0mmystr\u001b[0m\u001b[1;33m)\u001b[0m\u001b[1;33m:\u001b[0m\u001b[1;33m\u001b[0m\u001b[0m\n\u001b[0;32m      2\u001b[0m \u001b[1;33m\u001b[0m\u001b[0m\n\u001b[1;32m----> 3\u001b[1;33m     \u001b[1;32mfor\u001b[0m \u001b[0mterm\u001b[0m \u001b[1;32min\u001b[0m \u001b[0mclean\u001b[0m\u001b[1;33m.\u001b[0m\u001b[0msplit\u001b[0m\u001b[1;33m(\u001b[0m\u001b[1;33m)\u001b[0m\u001b[1;33m:\u001b[0m\u001b[1;33m\u001b[0m\u001b[0m\n\u001b[0m\u001b[0;32m      4\u001b[0m         \u001b[1;32mif\u001b[0m \u001b[0mstr\u001b[0m\u001b[1;33m(\u001b[0m\u001b[0mterm\u001b[0m\u001b[1;33m.\u001b[0m\u001b[0mupper\u001b[0m\u001b[1;33m(\u001b[0m\u001b[1;33m)\u001b[0m\u001b[1;33m)\u001b[0m \u001b[1;32min\u001b[0m \u001b[0mkeep_words_desc\u001b[0m\u001b[1;33m:\u001b[0m\u001b[1;33m\u001b[0m\u001b[0m\n\u001b[0;32m      5\u001b[0m             \u001b[0mclean_list\u001b[0m\u001b[1;33m.\u001b[0m\u001b[0mjoin\u001b[0m\u001b[1;33m(\u001b[0m\u001b[0mterm\u001b[0m\u001b[1;33m)\u001b[0m\u001b[1;33m\u001b[0m\u001b[0m\n",
      "\u001b[1;31mUnboundLocalError\u001b[0m: local variable 'clean' referenced before assignment"
     ]
    }
   ],
   "source": [
    "print(keep_word(mystr))"
   ]
  },
  {
   "cell_type": "code",
   "execution_count": null,
   "metadata": {},
   "outputs": [],
   "source": []
  }
 ],
 "metadata": {
  "kernelspec": {
   "display_name": "Python 3",
   "language": "python",
   "name": "python3"
  },
  "language_info": {
   "codemirror_mode": {
    "name": "ipython",
    "version": 3
   },
   "file_extension": ".py",
   "mimetype": "text/x-python",
   "name": "python",
   "nbconvert_exporter": "python",
   "pygments_lexer": "ipython3",
   "version": "3.6.6"
  }
 },
 "nbformat": 4,
 "nbformat_minor": 2
}
