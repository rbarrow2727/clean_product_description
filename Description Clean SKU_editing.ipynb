{
 "cells": [
  {
   "cell_type": "code",
   "execution_count": 1,
   "metadata": {},
   "outputs": [],
   "source": [
    "#Clean product descriptions to eliminate unsearchable numeric noise like dimensions EX: 48 rolls, 10x48,\n",
    "\n",
    "import re\n",
    "import pandas as pd\n",
    "import inflect ##not standard, pip required\n",
    "p = inflect.engine()\n",
    "from sklearn.feature_extraction.text import CountVectorizer\n",
    "\n",
    "from nltk.tokenize import RegexpTokenizer\n",
    "tokenizer = RegexpTokenizer(r'\\w+')\n"
   ]
  },
  {
   "cell_type": "code",
   "execution_count": 2,
   "metadata": {},
   "outputs": [],
   "source": [
    "#individual lists of items to remove to keep it clean\n",
    "uom_cd = ['BA','BC','BD','BG','BK','BL','BO','BT','BX','CA','CD','CG','CL','CM','CN','CO','CS','CT','CX','DI','DR','DS','DZ','EA','FT','GA','GL','GR','GS','HI','HU','IN','JR','KG','KT','LB','LF','LT','MR','OZ','PA','PC','PD','PF','PH','PK','PL','PR','PT','QT','RL','RM','RO','SF','SO','SQ','ST','SY','TB','TP','TW','UN','Y4','YD','ML','GAL','CU','MM']\n",
    "uom_nm = ['EACH','PACK','CASE','OUNCE','INCH','DOZEN','CENTIMETER','QUART','GALLON']\n",
    "uom_nm_pl = []\n",
    "colors = ['GREEN','BLUE','BLACK','WHITE','YELLOW','RED','ORANGE','SILVER','GRAY','GREY','BROWN','CLEAR','GOLD']\n",
    "stop_words = ['OF','PER','QTY','QUANTITY','X','L','W','H','LENGTH','WIDTH','HEIGHT','DIAMETER','OR']\n"
   ]
  },
  {
   "cell_type": "code",
   "execution_count": 3,
   "metadata": {},
   "outputs": [],
   "source": [
    "#create list of plural UOM Names\n",
    "for uom in uom_nm:\n",
    "    uom_nm_pl.append(p.plural(uom))\n",
    "\n",
    "#combined list to remove\n",
    "remove_terms = colors + uom_nm + uom_cd + uom_nm_pl + stop_words"
   ]
  },
  {
   "cell_type": "code",
   "execution_count": 15,
   "metadata": {},
   "outputs": [],
   "source": [
    "def basic_clean(mystr):\n",
    "\n",
    "#section 1: fix items like spacing first.  this is to try and assure we dont have problems breaking up the description by spaces\n",
    "    #add a space after a comma if none exists\n",
    "    clean = re.sub(r'(?<=[,])(?=[^\\s])', r' ', mystr)\n",
    "\n",
    "    #Remove double spaces, tabs and other\n",
    "    clean =' '.join(clean.split())\n",
    "\n",
    "    #Remove possesive appostrophe (?i) makes it case insensitve\n",
    "    clean = re.sub(r'(?i)(?<=[A-Z])[\\'](?=[S])', r'', clean)\n",
    "\n",
    "    #Convert Ampersand to 'and'\n",
    "    clean = re.sub(r'[\\&]','and',clean)\n",
    "\n",
    "#section 2: Remove specific terms\n",
    "    #remove terms that include digits\n",
    "    clean = ' '.join(s for s in clean.split() if not any(c.isdigit() for c in s))\n",
    "\n",
    "    #remove punctuation using tokenizer\n",
    "    clean=' '.join(tokenizer.tokenize(clean))\n",
    "    \n",
    "    ##replace hyphen with space\n",
    "    ##clean = clean.replace('2-ply', 'double ply', 1)\n",
    "    \n",
    "    ##replace hyphen \n",
    "    ##clean = re.sub(r'-(?:(?<!\\b[0-9]{4}-)|(?![0-9]{2}(?:[0-9]{2})?\\b))', ' ', clean)\n",
    "    \n",
    "    ##replace hyphen\n",
    "    ##clean = re.sub(r'([\\-])+', ' ', clean)\n",
    "    \n",
    "    ##replace hyphen\n",
    "    ##clean = re.sub(r'([-])', 'cjscnk', clean)\n",
    "\n",
    "    #remove terms\n",
    "    clean_list = []\n",
    "    \n",
    "    for term in clean.split():\n",
    "        if str(term.upper()) not in remove_terms:\n",
    "           clean_list.append(term)\n",
    "   \n",
    "    clean=' '.join(clean_list)\n",
    "\n",
    "    #remove duplicated terms\n",
    "    clean = ' '.join(list(dict.fromkeys(clean.split())))\n",
    "    \n",
    "    return clean"
   ]
  },
  {
   "cell_type": "code",
   "execution_count": 16,
   "metadata": {},
   "outputs": [],
   "source": [
    "mystr = r'''10x48 gallon drum with 2-ply covers & in 6-thousand miles long'''"
   ]
  },
  {
   "cell_type": "code",
   "execution_count": 17,
   "metadata": {},
   "outputs": [
    {
     "name": "stdout",
     "output_type": "stream",
     "text": [
      "drum with covers and miles long\n"
     ]
    }
   ],
   "source": [
    "#view cleaned description: 'cd'\n",
    "cd = print(basic_clean(mystr))\n",
    "cd"
   ]
  },
  {
   "cell_type": "code",
   "execution_count": null,
   "metadata": {},
   "outputs": [],
   "source": [
    "##to do list\n",
    "#1. need to figure out a way to identify actual words when you're \n",
    "#associated with a number and derive that to stay examples 2ply, 2-ply/1-gang\n",
    "#keep certain words that are useful for product desc but followed behind number"
   ]
  },
  {
   "cell_type": "code",
   "execution_count": 14,
   "metadata": {},
   "outputs": [
    {
     "data": {
      "text/plain": [
       "'ply'"
      ]
     },
     "execution_count": 14,
     "metadata": {},
     "output_type": "execute_result"
    }
   ],
   "source": [
    "#looks for word following a number and hyphen\n",
    "m = re.search('(?<=-)\\w+', mystr)\n",
    "m.group(0)"
   ]
  },
  {
   "cell_type": "code",
   "execution_count": 7,
   "metadata": {},
   "outputs": [],
   "source": [
    "#Attempt to spilt hyphen but only works for 'word-word' not 'number-word'\n",
    "def hyphen_split(a):\n",
    "    if a.count(\"-\") == 1:\n",
    "        return a.replace('-', ' ', mystr)\n",
    "    else:\n",
    "        return \"-\".join(a.split(\"-\", 2)[:2])"
   ]
  },
  {
   "cell_type": "code",
   "execution_count": 8,
   "metadata": {},
   "outputs": [
    {
     "data": {
      "text/plain": [
       "'10x48 gallon drum with 2-ply covers & in 6'"
      ]
     },
     "execution_count": 8,
     "metadata": {},
     "output_type": "execute_result"
    }
   ],
   "source": [
    "hyphen_split(mystr)"
   ]
  },
  {
   "cell_type": "code",
   "execution_count": 9,
   "metadata": {},
   "outputs": [
    {
     "name": "stdout",
     "output_type": "stream",
     "text": [
      "10x48 gallon drum with 2-ply covers & in 6-thousand miles long\n"
     ]
    }
   ],
   "source": [
    "#Count words in in description\n",
    "#research how to turn print function into varibale i.e. print(basic_clean(mystr))\n",
    "cd1 = ''.join(str(i) for i in mystr)\n",
    "print(cd1)"
   ]
  },
  {
   "cell_type": "code",
   "execution_count": 10,
   "metadata": {},
   "outputs": [],
   "source": [
    "#tokenize words\n",
    "cd2 = CountVectorizer().build_tokenizer()(cd1)"
   ]
  },
  {
   "cell_type": "code",
   "execution_count": 11,
   "metadata": {},
   "outputs": [
    {
     "data": {
      "text/plain": [
       "['10x48',\n",
       " 'gallon',\n",
       " 'drum',\n",
       " 'with',\n",
       " 'ply',\n",
       " 'covers',\n",
       " 'in',\n",
       " 'thousand',\n",
       " 'miles',\n",
       " 'long']"
      ]
     },
     "execution_count": 11,
     "metadata": {},
     "output_type": "execute_result"
    }
   ],
   "source": [
    "#View list of tokens\n",
    "cd2"
   ]
  },
  {
   "cell_type": "code",
   "execution_count": 271,
   "metadata": {},
   "outputs": [
    {
     "data": {
      "text/plain": [
       "<10x10 sparse matrix of type '<class 'numpy.int64'>'\n",
       "\twith 10 stored elements in Compressed Sparse Row format>"
      ]
     },
     "execution_count": 271,
     "metadata": {},
     "output_type": "execute_result"
    }
   ],
   "source": [
    "#fit_transform\n",
    "vectorEX= CountVectorizer()\n",
    "vectorEX.fit_transform(cd2)"
   ]
  },
  {
   "cell_type": "code",
   "execution_count": 272,
   "metadata": {},
   "outputs": [
    {
     "data": {
      "text/html": [
       "<div>\n",
       "<style scoped>\n",
       "    .dataframe tbody tr th:only-of-type {\n",
       "        vertical-align: middle;\n",
       "    }\n",
       "\n",
       "    .dataframe tbody tr th {\n",
       "        vertical-align: top;\n",
       "    }\n",
       "\n",
       "    .dataframe thead th {\n",
       "        text-align: right;\n",
       "    }\n",
       "</style>\n",
       "<table border=\"1\" class=\"dataframe\">\n",
       "  <thead>\n",
       "    <tr style=\"text-align: right;\">\n",
       "      <th></th>\n",
       "      <th>Word</th>\n",
       "      <th>Count</th>\n",
       "    </tr>\n",
       "  </thead>\n",
       "  <tbody>\n",
       "    <tr>\n",
       "      <td>0</td>\n",
       "      <td>miles</td>\n",
       "      <td>1</td>\n",
       "    </tr>\n",
       "    <tr>\n",
       "      <td>1</td>\n",
       "      <td>in</td>\n",
       "      <td>1</td>\n",
       "    </tr>\n",
       "    <tr>\n",
       "      <td>2</td>\n",
       "      <td>long</td>\n",
       "      <td>1</td>\n",
       "    </tr>\n",
       "    <tr>\n",
       "      <td>3</td>\n",
       "      <td>with</td>\n",
       "      <td>1</td>\n",
       "    </tr>\n",
       "    <tr>\n",
       "      <td>4</td>\n",
       "      <td>covers</td>\n",
       "      <td>1</td>\n",
       "    </tr>\n",
       "    <tr>\n",
       "      <td>5</td>\n",
       "      <td>gallon</td>\n",
       "      <td>1</td>\n",
       "    </tr>\n",
       "    <tr>\n",
       "      <td>6</td>\n",
       "      <td>10x48</td>\n",
       "      <td>1</td>\n",
       "    </tr>\n",
       "    <tr>\n",
       "      <td>7</td>\n",
       "      <td>thousand</td>\n",
       "      <td>1</td>\n",
       "    </tr>\n",
       "    <tr>\n",
       "      <td>8</td>\n",
       "      <td>drum</td>\n",
       "      <td>1</td>\n",
       "    </tr>\n",
       "    <tr>\n",
       "      <td>9</td>\n",
       "      <td>ply</td>\n",
       "      <td>1</td>\n",
       "    </tr>\n",
       "  </tbody>\n",
       "</table>\n",
       "</div>"
      ],
      "text/plain": [
       "       Word  Count\n",
       "0     miles      1\n",
       "1        in      1\n",
       "2      long      1\n",
       "3      with      1\n",
       "4    covers      1\n",
       "5    gallon      1\n",
       "6     10x48      1\n",
       "7  thousand      1\n",
       "8      drum      1\n",
       "9       ply      1"
      ]
     },
     "execution_count": 272,
     "metadata": {},
     "output_type": "execute_result"
    }
   ],
   "source": [
    "#Vierw Word Count \n",
    "pd.DataFrame([[x, cd2.count(x)] for x in set(cd2)], columns = ['Word', 'Count'])"
   ]
  },
  {
   "cell_type": "code",
   "execution_count": 273,
   "metadata": {},
   "outputs": [],
   "source": [
    "#define words to keep \n",
    "keep_words = ['PLY', 'GANG']"
   ]
  },
  {
   "cell_type": "code",
   "execution_count": 274,
   "metadata": {},
   "outputs": [
    {
     "name": "stdout",
     "output_type": "stream",
     "text": [
      "x\n"
     ]
    }
   ],
   "source": [
    "#the match function\n",
    "result = re.search(r'[a-zA-z]', mystr)\n",
    "print(result.group(0))"
   ]
  },
  {
   "cell_type": "code",
   "execution_count": 275,
   "metadata": {},
   "outputs": [
    {
     "data": {
      "text/plain": [
       "re.Match"
      ]
     },
     "execution_count": 275,
     "metadata": {},
     "output_type": "execute_result"
    }
   ],
   "source": [
    "type(result)"
   ]
  },
  {
   "cell_type": "code",
   "execution_count": 276,
   "metadata": {},
   "outputs": [
    {
     "data": {
      "text/plain": [
       "'x'"
      ]
     },
     "execution_count": 276,
     "metadata": {},
     "output_type": "execute_result"
    }
   ],
   "source": [
    "result.group(0)"
   ]
  },
  {
   "cell_type": "code",
   "execution_count": 13,
   "metadata": {},
   "outputs": [
    {
     "data": {
      "text/plain": [
       "'x48 gallon drum with 2-ply covers & in 6-thousand miles long'"
      ]
     },
     "execution_count": 13,
     "metadata": {},
     "output_type": "execute_result"
    }
   ],
   "source": [
    "#attemt\n",
    "mystr.lstrip('0123456789.-')"
   ]
  },
  {
   "cell_type": "code",
   "execution_count": null,
   "metadata": {},
   "outputs": [],
   "source": [
    "mystr1 = r'''These paper towls are 2-ply and on a roll of 6000 sheets and are good quality'''"
   ]
  },
  {
   "cell_type": "code",
   "execution_count": null,
   "metadata": {},
   "outputs": [],
   "source": []
  },
  {
   "cell_type": "code",
   "execution_count": 277,
   "metadata": {},
   "outputs": [],
   "source": [
    "#Create Keep Word function\n",
    "def keep_word(mystr):\n",
    "    \n",
    "   \n",
    "\n",
    "        \n",
    "        \n"
   ]
  },
  {
   "cell_type": "code",
   "execution_count": null,
   "metadata": {},
   "outputs": [],
   "source": [
    "\n",
    "\n",
    "keep =[]\n",
    "for word in clean.split: \n",
    "    if word in keep_words:\n",
    "        clean.replace('-', ' ')\n",
    "    return clean"
   ]
  }
 ],
 "metadata": {
  "kernelspec": {
   "display_name": "Python 3",
   "language": "python",
   "name": "python3"
  },
  "language_info": {
   "codemirror_mode": {
    "name": "ipython",
    "version": 3
   },
   "file_extension": ".py",
   "mimetype": "text/x-python",
   "name": "python",
   "nbconvert_exporter": "python",
   "pygments_lexer": "ipython3",
   "version": "3.7.4"
  }
 },
 "nbformat": 4,
 "nbformat_minor": 2
}
